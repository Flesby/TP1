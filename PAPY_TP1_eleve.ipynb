{
 "cells": [
  {
   "cell_type": "markdown",
   "id": "2b612aaf",
   "metadata": {},
   "source": [
    "```Ecole Centrale Nantes\n",
    "Option InfoIA\n",
    "PAPY: Programmation avancée python\n",
    "TP1\n",
    "Année 2022-2023\n",
    "Auteur: Lucas Lestandi\n",
    "lucas.lestandi@ec-nantes.fr\n",
    "V1.0\n",
    "```"
   ]
  },
  {
   "cell_type": "markdown",
   "id": "53b2d1ab",
   "metadata": {},
   "source": [
    "# TP 1 : Environnement de programmation et prise en main"
   ]
  },
  {
   "cell_type": "markdown",
   "id": "6c6f8a10",
   "metadata": {},
   "source": [
    "> **Objectifs:**\n",
    "> - Mise en place d'un environement commun\n",
    ">   * Mise en place d'un système unix de développement\n",
    ">   * Installation et déploiement conda\n",
    ">   * Prise en main IDE/Git\n",
    ">   * installation jupyter\n",
    "> - S'exercer sur le python de base\n"
   ]
  },
  {
   "cell_type": "markdown",
   "id": "3649b706",
   "metadata": {},
   "source": [
    "**Remarque:** une part importante des activités de développement consiste à rechercher de l'information (principalement en ligne) et de l'appliquer à son problème. Dans la pratique, on évitera de copier coller une solution incomprise depuis stackoverflow. Par contre certaines explications sont de très bonnes qualités, il faut savoir trouver un bon équilibre! Enfin, un grand nombre d'outils et bibliothèques possèdes des documentation de très bonne qualité comme nous allons le voir avec les docs *microsoft, anaconda, miniconda, jupyter, python, etc.* "
   ]
  },
  {
   "cell_type": "markdown",
   "id": "600a81f3",
   "metadata": {},
   "source": [
    "## Système d'exploitation (OS)"
   ]
  },
  {
   "cell_type": "markdown",
   "id": "881662ef",
   "metadata": {},
   "source": [
    "> Windows permet l'utilisation native de python mais ce n'est pas très pratique\n",
    "\n",
    "> On va s'équiper d'un environemement UNIX (mac/linux) si ce n'est déjà fait"
   ]
  },
  {
   "cell_type": "markdown",
   "id": "4415ca29",
   "metadata": {},
   "source": [
    "### Windows Subsytem Linux (WSL)\n",
    "Suivre\n",
    "https://docs.microsoft.com/fr-fr/windows/wsl/install\n",
    "\n",
    "ou\n",
    "https://lecrabeinfo.net/installer-wsl-windows-subsystem-for-linux-sur-windows-10.html"
   ]
  },
  {
   "cell_type": "markdown",
   "id": "8f56b65a",
   "metadata": {},
   "source": [
    "Pour un plus grand confort, installer le terminal windows https://apps.microsoft.com/store/detail/windows-terminal/9N0DX20HK701?hl=fr-fr&gl=FR"
   ]
  },
  {
   "cell_type": "markdown",
   "id": "92ca5e4c",
   "metadata": {},
   "source": [
    "![exemple de terminal](ressources/terminal_WSL.PNG)"
   ]
  },
  {
   "cell_type": "markdown",
   "id": "2c09b886",
   "metadata": {},
   "source": [
    "⚠️ A partir de maintenant il est vivement recommandé d'effectuer les manipulations dans la WSL ou sur votre systeme linux.\n",
    "\n",
    "> **Nous n'assurons pas le support windows**"
   ]
  },
  {
   "cell_type": "markdown",
   "id": "4191ce9f",
   "metadata": {},
   "source": [
    "### Les machines virtuelles (VM)\n",
    "\n",
    "Vous pouvez aussi installer très facilement des [VM](https://fr.wikipedia.org/wiki/Machine_virtuelle), en utilisant par exemple [`VirtualBox`](https://www.virtualbox.org/) pour virtualiser un système de test. **Ce n'est pas recommandé pour nos TPs puisque les performances sont assez mauvaises.** "
   ]
  },
  {
   "cell_type": "markdown",
   "id": "f55518e6",
   "metadata": {},
   "source": [
    "### Docker (optionnel)\n",
    "\n",
    "Une autre approche est d'utiliser des *container* comme docker. Si vous êtes administrateur de votre machine, je vous recommande de tester cette approche. Elle permet d'invoquer un environnement d'exécution isolé et contenant tous les outils nécessaires au bon fonctionnement d'un programme. Cette approche est très utilisée pour le déploiement de services sur des fermes de serveur. En local, elle permet par exemple l'utilisation simultanée de logiciels incompatibles entre eux (par exemple lié à problèmes de version) et surtout un controle fin et pérenne des versions de logiciels/bibliothèques nécessaire au bon fonctionnemnet d'une application. \n",
    "\n",
    "> **Remarque** Il n'est pas nécessaire d'installer Docker pour ce TP, vous pouvez passer à la suite si vous le souhaitez. \n",
    "\n",
    "#### Installation\n",
    "\n",
    "https://docs.docker.com/get-docker/\n",
    "\n",
    "#### Quelques bases\n",
    "https://docs.docker.com/get-started/overview/ propose une introduction très complète. \n",
    "\n",
    "On peut par exemple lancer un système ubuntu très simplemment depuis windows en exécutant la commande suivante:\n",
    "```shell \n",
    "$ docker run -it ubuntu\n",
    "```\n",
    "Qui recherchera l'image d'ubuntu si celle-ci n'est pas déjà présente en local, puis exécutera l'environnement en mode intéractif. \n",
    "\n",
    "Pour information, le dockerfile ne contient que 3 lignes :\n",
    "```shell\n",
    "FROM scratch #l'image minimale de docker\n",
    "ADD ubuntu-jammy-oci-amd64-root.tar.gz / #l'archive contenant ubuntu\n",
    "CMD [\"bash\"] # la commande que l'on exécutera par défaut avec l'option -it\n",
    "```\n",
    "\n",
    "\n",
    "> Pour les TPs de ce cours, une très bonne série d'images est proposée par https://jupyter-docker-stacks.readthedocs.io/en/latest/using/selecting.html. Dans un premier temps, `scipy-notebook` est un choix très complet."
   ]
  },
  {
   "cell_type": "markdown",
   "id": "d1b1f528",
   "metadata": {},
   "source": [
    "## Anaconda"
   ]
  },
  {
   "cell_type": "markdown",
   "id": "a7a7728f",
   "metadata": {
    "slideshow": {
     "slide_type": "fragment"
    }
   },
   "source": [
    "  <div style=\"text-align: left; float: left;\">\n",
    "    <img src=\"https://upload.wikimedia.org/wikipedia/en/c/cd/Anaconda_Logo.png\" alt=\"Logo Anaconda\" width=\"400\" height=\"200\">\n",
    "  </div>\n",
    "\n",
    "  <div style=\"text-align: left; float: left;\">\n",
    "    <ul>\n",
    "        <li><b>Anaconda</b> : distribution de python</li>\n",
    "        <li>gestionnaire d'environement</li>\n",
    "        <li> <a src=\"https://www.anaconda.com/products/distribution\">Distribution officielle avec de nombreux paquets pré-installés</a> </li>\n",
    "        <li>miniconda : version minimale</li>\n",
    "        <li>mamba : installation rapide de paquet </li>\n",
    "    </ul>\n",
    "  </div>"
   ]
  },
  {
   "cell_type": "markdown",
   "id": "b66da3c3",
   "metadata": {},
   "source": [
    " ### Installation (Windows)\n",
    " \n",
    " Suivre les instructions en fonction de votre machine: https://docs.anaconda.com/anaconda/install/"
   ]
  },
  {
   "cell_type": "code",
   "execution_count": null,
   "id": "0321dbf3",
   "metadata": {},
   "outputs": [],
   "source": [
    "%%html \n",
    "<iframe src=\"https://docs.anaconda.com/anaconda/install/\" width=\"1000\" height=\"800\"></iframe>"
   ]
  },
  {
   "cell_type": "markdown",
   "id": "6b386fbd",
   "metadata": {},
   "source": [
    "Anaconda peut être livré avec une version graphique\n",
    "![navigateur](ressources/anaconda-navigator.png)"
   ]
  },
  {
   "cell_type": "markdown",
   "id": "3646ef54",
   "metadata": {},
   "source": [
    "Mais contient à minima un moteur pour la gestion des paquets *via* un interface en ligne de commande, soit `Ancaconda prompt` (qui émule un shell linux) soit directement dans le shell du système en l'activant ou non."
   ]
  },
  {
   "cell_type": "markdown",
   "id": "1865ad75",
   "metadata": {},
   "source": [
    "### Installation (miniconda sous linux)"
   ]
  },
  {
   "cell_type": "markdown",
   "id": "065bc20d",
   "metadata": {},
   "source": [
    "Miniconda est une version \"allégée\" et surtout libre de conda. On peut télécharger le script d'installation )(`Miniconda3 Linux 64-bit`) directement https://docs.conda.io/en/latest/miniconda.html ou exécuter la série de commande suivante dans le dossier de votre choix.\n",
    "```shell\n",
    "$ wget https://repo.anaconda.com/miniconda/Miniconda3-latest-Linux-x86_64.sh\n",
    "$ chmod 711 Miniconda3-latest-Linux-x86_64.sh\n",
    "$ ./Miniconda3-latest-Linux-x86_64.sh\n",
    "```\n",
    "Puis on répond aux questions posées par le script. Une fois celui-ci complété, `conda` est accessible et l'environement de base est actif par défaut dans les nouveaux terminaux."
   ]
  },
  {
   "cell_type": "markdown",
   "id": "b8988ede",
   "metadata": {},
   "source": [
    "> miniconda est aussi disponible sous windows."
   ]
  },
  {
   "cell_type": "markdown",
   "id": "7f177975",
   "metadata": {},
   "source": [
    "### Création d'environement via la CLI (Command Line Interface)\n",
    "\n",
    "**But**: \n",
    "- Créer un environnement autonome pour ce TP : `TP1`\n",
    "- Installer quelques paquets pour un usage scientifique/AI"
   ]
  },
  {
   "cell_type": "markdown",
   "id": "f3310251",
   "metadata": {},
   "source": [
    "> ⚠️ Selon la méthode d'installation, les paquets installés dans l'environnement de base diffèrent. On va donc créer un environement distinct qui nous permettra d'avoir la même configuration sur toute les machines. "
   ]
  },
  {
   "cell_type": "markdown",
   "id": "cd4c564c",
   "metadata": {},
   "source": [
    "> On verra dans un TP ultérieur que ces environements peuvent etre exportés (plus ou moins) facilement pour des questions de portabilité."
   ]
  },
  {
   "cell_type": "markdown",
   "id": "25b3de31",
   "metadata": {},
   "source": [
    "> Pour toutes les questions suivantes, vous trouverez les informations nécessaires dans les documentations conda/anaconda en ligne."
   ]
  },
  {
   "cell_type": "markdown",
   "id": "78dcbec1",
   "metadata": {},
   "source": [
    "<div class=\"alert alert-info\"> \n",
    "    <ol>\n",
    "        <li> Lancer un terminal/anaconda prompt</li>\n",
    "        <li> Créer un environement conda appelé <code>TP1</code> </li>\n",
    "        <li> L'activer avec la commande <code>conda activate TP1</code>. L'entête du terminal commence désormais par `(TP1)`</li>\n",
    "        <li> Quel version de python est appelée par les commandes <code>python</code> et <code>python3</code>. On pourra utiliser la commande shell <code>which</code> ou exécuter python pour plus de détail.</li>\n",
    "        <li> Installer la version 3.10.6 de python précisément.\n",
    "        <li> Tester à nouveau la version de python</li>\n",
    "        <li> Installer et tester le paquet <code>ipython</code> grace à conda. Il propose entre autre un shell python interractif avec une introspection avancée et une colorisation.</li>\n",
    "        <li> Installer les paquets suivants : <code>scipy, matplotlib, sympy</code>. <i>Vérifier à nouveau la version python, que conclure?</i> \n",
    "        <br> <i>L'installation peut prendre du temps puisqu'elle nécessite de vérifier qu'il n'y a pas de conflit entre les modules installés! A l'inverse, <code>pip</code> l'installateur le plus commun n'effectue pas de telles vérifications. Une solution récente pour accélérer l'installation est d'utiliser `mamba` en lieu et place de conda.</i>\n",
    "        </li>\n",
    "        <li> Installer le paquet <code>pygame</code> et tester la commande suivante :  <code>python -m pygame.examples.aliens</code>. Que se passe-t-il?</li>\n",
    "        <li> Dans le terminal interractif de votre choix, calculez les 10 premiers termes de la suite de Fibonacci ${u_{n+2}=u_n+u_{n+2}}, u_0=0, u_1=1$</li>\n",
    "        <li> Idem pour les 100 premiers termes.</li>\n",
    "    </ol>\n",
    "</div>"
   ]
  },
  {
   "cell_type": "markdown",
   "id": "445b38c5",
   "metadata": {},
   "source": [
    "## IDE : l'exemple VS Code\n",
    "L'éditeur intégré de développement (IDE) s'est imposé comme l'outil indispensable pour l'élaboration de projet de code moderne. C'est particulièrement vrai en python, avec les possibilités d'introspection, exécution et débuggage de code.\n",
    "\n",
    "### Installation et documentation\n",
    "\n",
    "Télécharger le logiciel et l'installer. Profitez en pour survoler la doc et les tutoriels.\n",
    "- https://code.visualstudio.com/\n",
    "\n",
    "<div class=\"alert alert-info\"> <b>Exercice:</b> \n",
    "    <ol>\n",
    "        <li>Lancer VS Code</li>\n",
    "        <li>Créer un fichier <code>hello-world.py</code> qui affichera \"hello, world\" suivit de la version de python en cours d'utilisation.</li>\n",
    "        <li> Exécuter le script dans le terminal (usuel) et celui inclu dans l'IDE.\n",
    "    </ol>"
   ]
  },
  {
   "cell_type": "markdown",
   "id": "91980827",
   "metadata": {},
   "source": [
    "### Installation des extensions python\n",
    "L'IDE natif propose la coloration syntaxique mais guère plus à ce stade. Il faut donc ajouter des extensions en fonction de vos projets. Pour ce cours, installer les extensions `Python` et `Pylance` qui offrent grand nombre de *features*."
   ]
  },
  {
   "cell_type": "markdown",
   "id": "f206ab00",
   "metadata": {},
   "source": [
    "### Connection à une machine hote\n",
    "Une des grandes forces de VS code est la facilité d'utilisation sur des hotes distants. Moyennant une connection SSH (locale pour la WSL) à une machine équipée de `VS code` (au moins dans sa partie serveur), on peut interragir avec le code de la même manière que s'il était sur sa propre machine.\n",
    "![https://code.visualstudio.com/docs/remote/remote-overview](https://code.visualstudio.com/assets/docs/remote/remote-overview/architecture.png)\n",
    "Pour faire cela on utilsera les paquets `remote-WSL` et `remote-SSH` comme décrit [ici](https://code.visualstudio.com/docs/remote/remote-overview).\n",
    "\n",
    "Pour nos TP cela permet d'accéder à l'environement de développement que l'on a conçu dans l'exercice pércédent. VS code sera capable de repérer les paquets installés ou non et d'afficher les docstrings."
   ]
  },
  {
   "cell_type": "markdown",
   "id": "55c866ac",
   "metadata": {},
   "source": [
    "### Git\n",
    "En plus de votre IDE vous aurez **ABSOLUMENT** besoin d'un logiciel de versionnage, dont `git` est le leader incontesté. A installer et activer dans votre environement!\n",
    "\n",
    "Quelques bases : https://training.github.com/downloads/github-git-cheat-sheet.pdf\n",
    "\n",
    "Et la [doc officielle](https://git-scm.com/book/fr/v2/Les-bases-de-Git-D%C3%A9marrer-un-d%C3%A9p%C3%B4t-Git) (trés/trop) détaillée"
   ]
  },
  {
   "cell_type": "markdown",
   "id": "a1477f14",
   "metadata": {},
   "source": [
    "<div class=\"alert alert-info\"> <b>Exercice: création d'un dépot git</b> \n",
    "    <ol>\n",
    "        <li> Déplacer le fichier <code>hello-world.py</code> dans un dossier TP1 </li>\n",
    "        <li> Créer un nouveau dépot git </li>\n",
    "        <li> Y ajouter le fichier et `commit` les changements.\n",
    "    </ol>\n",
    "Il s'agit la d'un dépot local. On pourrait aussi l'uploader sur un plateforme type github.\n",
    "</div>"
   ]
  },
  {
   "cell_type": "markdown",
   "id": "9d1d33ef",
   "metadata": {},
   "source": [
    "<div class=\"alert alert-info\"> <b>Exercice: clonage et analyse de sources</b> \n",
    "    <ol>\n",
    "        <li> Trouver et cloner les sources de la bibliothèque numpy dans un dossier temporaire? </li>\n",
    "        <li> Quel est le tag du commit <code>7d4349e332fcba2bc3f266267421531b3ec5d3e6</code>? </li>\n",
    "        <li> Ouvrir les sources de la bibliothèque numpy et trouver de quelle façon est calculé la norme d'un <code>array</code>. Trouver la ligne où cette fonction est définie. </li>\n",
    "        <li> Quelles sont les arguments de cette fonction? </li>\n",
    "        <li> Quel cas (ligne et valeur de l'argument) peuvent être appelés si <code>ord</code> est laissé vide (`None`)? \n",
    "    </ol>\n",
    "</div>"
   ]
  },
  {
   "cell_type": "markdown",
   "id": "66814a23",
   "metadata": {},
   "source": [
    " <div class=\"alert alert-danger\"> A la fin de cette section, vous devez disposer de VS code, avec un systeme de controle de version. </div>"
   ]
  },
  {
   "cell_type": "markdown",
   "id": "af2161d2",
   "metadata": {},
   "source": [
    "## Les jupyter notebooks\n",
    "Ce document est en fait un notebook, nous allons l'ouvrir pour poursuivre ce TP.\n",
    "\n",
    "Avant cela, il faudra installer la suite d'applications avec la commande\n",
    "\n",
    "```shell\n",
    "$ conda install -c conda-forge jupyter jupyterlab nb_conda_kernels jupyter_contrib_nbextensions\n",
    "```\n",
    "\n",
    "Que l'on peut décomposer ainsi : `conda` appèle le gestionnaire d'environnement, en mode `install`. On choisit un \"channel\" particulier ici avec l'option `-c conda-forge` qui contient plus de paquets que le dépot standard puisqu'il est maintenu par la communauté. Enfin on liste les paquets que l'on souhaite installer. "
   ]
  },
  {
   "cell_type": "markdown",
   "id": "d296ea39",
   "metadata": {},
   "source": [
    "> La documentation pricipale : https://docs.jupyter.org/en/latest/\n",
    "\n",
    "> Pour plus de détail sur les extensions : https://towardsdatascience.com/jupyter-notebook-extensions-517fa69d2231\n",
    "\n",
    "> De même, pour le setup d'un environnemnet IA : https://towardsdatascience.com/how-to-set-up-anaconda-and-jupyter-notebook-the-right-way-de3b7623ea4a"
   ]
  },
  {
   "cell_type": "markdown",
   "id": "8dc959b8",
   "metadata": {},
   "source": [
    "**Deux** interfaces s'offrent à vous, \n",
    "1. les notebooks \"purs\" avec les extensions pour une approche assez textuelle mais fournie avec les nombreux outils des  `nbextensions`.\n",
    "1. `jupyterlab`, qui réplique un environnement de type IDE, pour des notebooks. On a une bare de navigation, un explorateur de variable, etc. C'est entrain de devenir le nouveau standard. "
   ]
  },
  {
   "cell_type": "markdown",
   "id": "4196971b",
   "metadata": {},
   "source": [
    "D'un point de vue technique. L'utilisation de jupyter se passe sur deux plans, un coté serveur, que l'on lance dans le terminal (ou sur un serveur) et de l'autre une visualisation à partir du navigateur de son choix. L'addresse par défaut est https://localhost:8888 avec 8888 le port par défaut (on peut le modifier) ou remplacer localhost par une addresse sur le web.  "
   ]
  },
  {
   "cell_type": "markdown",
   "id": "34a9fcdf",
   "metadata": {},
   "source": [
    "<div class=\"alert alert-danger\"> <b>Attention:</b> fermer le navigateur ne suffit pas à interrompre le process. Il faut le faire dans le terminal avec un double <code>CTRL+C</code>. On peut par contre terminer individuellement les notebooks pour libérer la mémoire occupée par celui-ci.</div>"
   ]
  },
  {
   "cell_type": "markdown",
   "id": "493b414e",
   "metadata": {},
   "source": [
    "### Un peu de pratique"
   ]
  },
  {
   "cell_type": "markdown",
   "id": "f26e45fc",
   "metadata": {},
   "source": [
    "Il existe 3 types de cellules dans les notebook. Des cellules de texte comme celle-ci. Une fois validée, le moteur interprete le texte avec le balisage Markdown (et HTML) pour sa mise en forme.\n",
    "Par exemple: \n",
    "**Du texte gras markdown** suivit d'une formule mathématique en $\\LaTeX$. On peut intégrer des images ou des liens très simplement : https://www.markdownguide.org/getting-started/."
   ]
  },
  {
   "cell_type": "raw",
   "id": "7232f1ea",
   "metadata": {},
   "source": [
    "On peut aussi stocker du texte brut, pour par exemple commenter une cellule de code entière"
   ]
  },
  {
   "cell_type": "code",
   "execution_count": null,
   "id": "96453695",
   "metadata": {},
   "outputs": [],
   "source": [
    "#Enfin il y a les blocks de code interprétés. Par défaut en python avec le dernier output qui est affiché. Comme dans un interpréteur python standard.\n",
    "import sys\n",
    "sys.version"
   ]
  },
  {
   "cell_type": "code",
   "execution_count": null,
   "id": "cd245a32",
   "metadata": {},
   "outputs": [],
   "source": [
    "#On peut aussi créer des fonctions ou tout type d'objet python\n",
    "def mafonction(arg1):\n",
    "    print(arg1)\n",
    "    return None"
   ]
  },
  {
   "cell_type": "markdown",
   "id": "967aea52",
   "metadata": {},
   "source": [
    "Dans ce cas, attention à la portée des variables et à l'ordre d'exécution. En effet, il est tentant de rééxécuter des cellules, parfois dans le désordre. Il faudra donc s'éfforcer, une fois la solution trouvée, d'avoir un notebook qui s'exécute d'une traite sans erreur. Pour vérifier cela, on utiliser le bouton noyau *\"redémarrer et tout exécuter\"* ⏩."
   ]
  },
  {
   "cell_type": "markdown",
   "id": "d84a406f",
   "metadata": {},
   "source": [
    "L'interpréteur ipython et par conséquent jupyter est livré avec un nombre important de **magics** qui vont soit augmenter un cellule python soit interragir directement avec le system."
   ]
  },
  {
   "cell_type": "code",
   "execution_count": null,
   "id": "768e0805",
   "metadata": {},
   "outputs": [],
   "source": [
    "%run hello-world.py \n",
    "#permet d'exécuter dans le notebook (et surtout l'interpréteur attaché) un fichier externe"
   ]
  },
  {
   "cell_type": "code",
   "execution_count": null,
   "id": "a7c0e466",
   "metadata": {},
   "outputs": [],
   "source": [
    "# Evalue le temps d'exécution d'une ligne\n",
    "%timeit for i in range(1000): i*2.5"
   ]
  },
  {
   "cell_type": "code",
   "execution_count": null,
   "id": "dde5902e",
   "metadata": {},
   "outputs": [],
   "source": [
    "%%timeit\n",
    "#pour la cellule entiere\n",
    "for i in range(1000): \n",
    "    i*2.5"
   ]
  },
  {
   "cell_type": "markdown",
   "id": "5b2ff6d8",
   "metadata": {},
   "source": [
    "Quelques commandes du terminal sont disponibles avec les magics comme `cd`, `pwd`, `ls`. \n",
    "<div class=\"alert alert-info\"> Se déplacer dans le dossier TP1 et afficher son contenu </div>"
   ]
  },
  {
   "cell_type": "markdown",
   "id": "15d975d8",
   "metadata": {},
   "source": [
    "<div class=\"alert alert-danger\"> Les deux magics suivantes sont à appliquer dans la majorité des notebooks. Elle permettent le rechargement automatique des modules que vous utilisez ce qui est particulièrement utile lors de l'utilisation d'un projet en cours de développement.</div>"
   ]
  },
  {
   "cell_type": "code",
   "execution_count": null,
   "id": "b1a60dc8",
   "metadata": {},
   "outputs": [],
   "source": [
    "%reload_ext autoreload\n",
    "%autoreload 2"
   ]
  },
  {
   "cell_type": "markdown",
   "id": "b1589b20",
   "metadata": {},
   "source": [
    "## Un peu de python pour finir\n",
    "On va s'appuyer sur l'aspect dynamique du notebook pour la fin de ce TP. En particulier, on va travailler avec du texte et des fichiers puisque cela nécessite des fonctions basiques de python.\n",
    "\n",
    "<div class=\"alert alert-info\"> <b> Exercice: </b> Ci-dessous un certain nombre de problèmes sont décrit, ouvrez un notebook jupyter et répondez directement dedans. </div>\n",
    "\n",
    "<div class=\"alert alert-warning\"> <b>Remarque:</b> n'oubliez pas d'accéder à la documentation et autres <a href=\"https://perso.limsi.fr/pointal/_media/python:cours:mementopython3-english.pdf\">pense bête</a> pour répondre aux questions.  </div>"
   ]
  },
  {
   "cell_type": "markdown",
   "id": "9568e148",
   "metadata": {},
   "source": [
    "### Manipulation d'un texte assez long.\n",
    "On va travailler avec le poème archi classique de Jean de La Fontaine. \n",
    "```\n",
    "LA CIGALE ET LA FOURMI\n",
    "La Cigale, ayant chanté\n",
    "Tout L'Été,\n",
    "Se trouva fort dépourvue\n",
    "Quand la Bise fut venue.\n",
    "Pas un seul petit morceau\n",
    "De mouche ou de vermisseau.\n",
    "Elle alla crier famine\n",
    "Chez la Fourmi sa voisine,\n",
    "La priant de lui prêter\n",
    "Quelque grain pour subsister\n",
    "Jusqu'à la saison nouvelle.\n",
    "« Je vous paierai, lui dit-elle,\n",
    "Avant l'Août, foi d'animal,\n",
    "Intérêt et principal. »\n",
    "La Fourmi n'est pas prêteuse :\n",
    "C'est là son moindre défaut.\n",
    "« Que faisiez-vous au temps chaud ?\n",
    "Dit-elle à cette emprunteuse.\n",
    "- Nuit et jour à tout venant\n",
    "Je chantais, ne vous déplaise.\n",
    "- Vous chantiez ? j'en suis fort aise :\n",
    "Eh bien ! dansez maintenant. »\n",
    "```\n",
    "Derrière se texte annodin se cache un nombre important de caractères spéciaux qu'il faut pouvoir manipuler si l'on veut extraire des informations de celui-ci.\n",
    "\n",
    "**Copier le poème dans un fichier `fable.txt` situé dans le même dossier que le notebook.**"
   ]
  },
  {
   "cell_type": "markdown",
   "id": "1e311df4",
   "metadata": {},
   "source": [
    "#### Intérraction avec les fichiers\n",
    "\n",
    "- **Ouvrir le fichier `fable.txt`** et stocker son contenu dans une variable `fable`."
   ]
  },
  {
   "cell_type": "markdown",
   "id": "7e61b4e7",
   "metadata": {},
   "source": [
    "- **Afficher le contenu de fable. S'agit-il d'un texte ascii?**"
   ]
  },
  {
   "cell_type": "markdown",
   "id": "67856ed5",
   "metadata": {},
   "source": [
    "Les strings python `str` sont encodés par défaut avec la norme utf-8 ce qui permet de traites les caractères du français, et de la plupart des autres langues. De plus un certain nombre d'\"escape character\" sont interprétés à l'affichage. C'est le cas du retour à la ligne. Ce dernier est codé par `\\n`. Ainsi, si l'on affiche le contenu de fable explicitement dans le notebook, il n'y plus de retour à la ligne mais une seule ligne contenant tout le texte."
   ]
  },
  {
   "cell_type": "code",
   "execution_count": null,
   "id": "6a87e49a",
   "metadata": {},
   "outputs": [],
   "source": [
    "fable"
   ]
  },
  {
   "cell_type": "markdown",
   "id": "a57ec529",
   "metadata": {},
   "source": [
    "- **Ecrire un script qui compte les dialogues prononcés par les deux personnages.**  On tiendra compte des \"-\" lorsqu'ils indiquent un changement d'orateur."
   ]
  },
  {
   "cell_type": "markdown",
   "id": "9e3f0a15",
   "metadata": {},
   "source": [
    "- **Supprimer tous les \"e\" du texte**"
   ]
  },
  {
   "cell_type": "markdown",
   "id": "c1428e31",
   "metadata": {},
   "source": [
    "- **Enrigstrer le nouveau fichier sous le nom `fabl.txt`** "
   ]
  },
  {
   "cell_type": "markdown",
   "id": "2fe98aef",
   "metadata": {},
   "source": [
    "### Un parseur simple\n",
    "A l'image du référencement google, on souhaite extraire les titres d'une page web : https://fr.wikipedia.org/wiki/Python_(langage).\n",
    "\n",
    "Comme la plupart des sites, celui-ci est basé sur un code html que l'on va importer directement avec python et la library native `urllib` (cf doc.) et sa fonction `urlopen`. \n",
    "- **Lire le code html et en afficher quelques lignes (`readlines`).**\n",
    "L'output doit ressembler à ceci\n",
    "```\n",
    "b'<!DOCTYPE html>\\n'\n",
    "b'<html class=\"client-nojs\" lang=\"fr\" dir=\"ltr\">\\n'\n",
    "b'<head>\\n'\n",
    "b'<meta charset=\"UTF-8\"/>\\n'\n",
    "b'<title>Python (langage) \\xe2\\x80\\x94 Wikip\\xc3\\xa9dia</title>\\n'\n",
    "...\n",
    "```"
   ]
  },
  {
   "cell_type": "markdown",
   "id": "a590e8b0",
   "metadata": {},
   "source": [
    "**Combien y a-t-il de lignes de code? et de charactères?**\n",
    "> *Remarque: les lignes extraites par `readlines` sont du bytecode et non des strings. Pour notre analyse, on doit convertir et puis chercher les balises de texte comme précédemment.* "
   ]
  },
  {
   "cell_type": "markdown",
   "id": "8e72a1fe",
   "metadata": {},
   "source": [
    "> Le code est vide (une fois lu) on va donc stocker celui ci dans un `str`."
   ]
  },
  {
   "cell_type": "markdown",
   "id": "7ccc8774",
   "metadata": {},
   "source": [
    "**Extraire les titres de niveau 1 à 3 (balise <h\\*> et <\\/h*>) dans une structure de donnée permettant de les trier par importance.** *On peut utiliser des __regex__ pour faciliter l'analyse.*\n",
    "\n",
    "**Afficher ces titres de manière hiérarchique (en non chronologique).**"
   ]
  },
  {
   "cell_type": "markdown",
   "id": "b9381573",
   "metadata": {},
   "source": [
    "On constate qu'il n'y a pas simplement les balises mais aussi tout un tas de détails que l'on ne souhaite pas conserver pour cet exercice. On peut reprendre l'idée de l'exercice précédent pour résoudre celui-ci. "
   ]
  },
  {
   "cell_type": "markdown",
   "id": "755735cb",
   "metadata": {},
   "source": [
    "> *En fait, comme pour pratiquement tout, il existe une librairie python qui sait faire le parsing pour nous : `beautifulsoup`\n",
    "\n",
    "**Extraire les memes informations à l'aide de `beautifulsoup`**"
   ]
  },
  {
   "cell_type": "markdown",
   "id": "e2ee3781",
   "metadata": {},
   "source": [
    "Pour l'installer : `mamba  install -c anaconda beautifulsoup4 -y`"
   ]
  },
  {
   "cell_type": "markdown",
   "id": "2e9b309e",
   "metadata": {},
   "source": [
    "### Bonus\n",
    "Le jeu \"plus petit/plus grand\" est un des classiques dans l'apprentissage de la programmation. L'ordinateur génère un nombre aléatoire et le joueur essaye de le retrouver. À chaque étape, l'ordinateur indique si le nombre proposé est plus petit ou plus grand que le nombre à trouver.\n",
    "Ici, l'exercice proposé est de programmer la position inverse : le joueur choisit un nombre et l'ordinateur essaye de le retrouver selon la même approche.\n",
    "\n",
    "La vraie difficulté de l'exercice sera que le programme doit détecter la tricherie (celle du joueur, car le programme, lui, ne triche jamais). Ce cas se produit quand l'ordinateur propose (par exemple) 50 et que le joueur répond \"+\". Puis plus tard, il propose 51 et le joueur répond \"-\". Et bien entendu, une situation symétrique si l'ordinateur propose (toujours) 50 et que le joueur répond \"-\". Puis plus tard, il propose 49 et le joueur répond \"+\".\n",
    "\n",
    "Exemple de résultat honnête\n",
    "```\n",
    "Mémorisez un nombre entre 1 et 100, je vais essayer de le retrouver\n",
    "Appuyez sur <enter> quand vous serez prêt. Et ne trichez pas ensuite...\n",
    "Je propose 57... +, - ou G ?-\n",
    "Je propose 37... +, - ou G ?-\n",
    "Je propose 19... +, - ou G ?+\n",
    "Je propose 25... +, - ou G ?G\n",
    "J'ai trouvé 25 en 4 coups !!!\n",
    "```\n",
    "Exemple de tricherie\n",
    "```\n",
    "Mémorisez un nombre entre 1 et 100, je vais essayer de le retrouver\n",
    "Appuyez sur <enter> quand vous serez prêt. Et ne trichez pas ensuite...\n",
    "Je propose 44... +, - ou G ?-\n",
    "Je propose 29... +, - ou G ?-\n",
    "Je propose 17... +, - ou G ?+\n",
    "Je propose 25... +, - ou G ?+\n",
    "Je propose 27... +, - ou G ?-\n",
    "Je propose 26... +, - ou G ?-\n",
    "Tricheur !!! A la réponse 4 il avait été proposé 25 et répondu \"+\" - En proposant 26 la réponse ne peut pas être \"-\" !!!\n",
    "J'ai gagné par forfait en 6 coups !!!\n",
    "```"
   ]
  }
 ],
 "metadata": {
  "kernelspec": {
   "display_name": "Python 3 (ipykernel)",
   "language": "python",
   "name": "python3"
  },
  "language_info": {
   "codemirror_mode": {
    "name": "ipython",
    "version": 3
   },
   "file_extension": ".py",
   "mimetype": "text/x-python",
   "name": "python",
   "nbconvert_exporter": "python",
   "pygments_lexer": "ipython3",
   "version": "3.9.13"
  },
  "rise": {
   "overlay": "<div class='myheader'><p style='text-align:center;'>Lucas Lestandi, PAPY C1, Option Info IA, ECN, 2022-2023</p><img src='logoCN.png' width='200' height='118' align='right'></div></div>",
   "theme": "solarized"
  },
  "toc": {
   "base_numbering": 1,
   "nav_menu": {
    "height": "492px",
    "width": "334px"
   },
   "number_sections": true,
   "sideBar": true,
   "skip_h1_title": true,
   "title_cell": "Table of Contents",
   "title_sidebar": "Contents",
   "toc_cell": false,
   "toc_position": {
    "height": "calc(100% - 180px)",
    "left": "10px",
    "top": "150px",
    "width": "307.2px"
   },
   "toc_section_display": true,
   "toc_window_display": true
  },
  "varInspector": {
   "cols": {
    "lenName": 16,
    "lenType": 16,
    "lenVar": 40
   },
   "kernels_config": {
    "python": {
     "delete_cmd_postfix": "",
     "delete_cmd_prefix": "del ",
     "library": "var_list.py",
     "varRefreshCmd": "print(var_dic_list())"
    },
    "r": {
     "delete_cmd_postfix": ") ",
     "delete_cmd_prefix": "rm(",
     "library": "var_list.r",
     "varRefreshCmd": "cat(var_dic_list()) "
    }
   },
   "types_to_exclude": [
    "module",
    "function",
    "builtin_function_or_method",
    "instance",
    "_Feature"
   ],
   "window_display": false
  }
 },
 "nbformat": 4,
 "nbformat_minor": 5
}
