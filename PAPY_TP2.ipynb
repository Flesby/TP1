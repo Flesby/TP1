{
 "cells": [
  {
   "cell_type": "markdown",
   "id": "fff43851",
   "metadata": {},
   "source": [
    "```Ecole Centrale Nantes\n",
    "Option InfoIA\n",
    "PAPY: Programmation avancée python\n",
    "TP2\n",
    "Année 2022-2023\n",
    "Auteur: Lucas Lestandi\n",
    "lucas.lestandi@ec-nantes.fr\n",
    "V1.0\n",
    "```"
   ]
  },
  {
   "cell_type": "markdown",
   "id": "b1be957b",
   "metadata": {},
   "source": [
    "# TP2 : Structuration et types de données"
   ]
  },
  {
   "cell_type": "markdown",
   "id": "c38e2f70",
   "metadata": {},
   "source": [
    "Idée : **nuée de Boid**"
   ]
  },
  {
   "cell_type": "markdown",
   "id": "e9820043",
   "metadata": {},
   "source": [
    "## Gestion de la mémoire"
   ]
  },
  {
   "cell_type": "markdown",
   "id": "d66f3c2c",
   "metadata": {},
   "source": [
    "### Les listes\n",
    "Notion de performances pour l'initialisation et le parcours\n",
    "\n",
    "Compréhension, for, etc"
   ]
  },
  {
   "cell_type": "code",
   "execution_count": null,
   "id": "990a4238",
   "metadata": {},
   "outputs": [],
   "source": []
  }
 ],
 "metadata": {
  "kernelspec": {
   "display_name": "Python 3 (ipykernel)",
   "language": "python",
   "name": "python3"
  },
  "language_info": {
   "codemirror_mode": {
    "name": "ipython",
    "version": 3
   },
   "file_extension": ".py",
   "mimetype": "text/x-python",
   "name": "python",
   "nbconvert_exporter": "python",
   "pygments_lexer": "ipython3",
   "version": "3.9.13"
  },
  "toc": {
   "base_numbering": 1,
   "nav_menu": {},
   "number_sections": true,
   "sideBar": true,
   "skip_h1_title": true,
   "title_cell": "Table of Contents",
   "title_sidebar": "Contents",
   "toc_cell": false,
   "toc_position": {
    "height": "calc(100% - 180px)",
    "left": "10px",
    "top": "150px",
    "width": "384px"
   },
   "toc_section_display": true,
   "toc_window_display": true
  },
  "varInspector": {
   "cols": {
    "lenName": 16,
    "lenType": 16,
    "lenVar": 40
   },
   "kernels_config": {
    "python": {
     "delete_cmd_postfix": "",
     "delete_cmd_prefix": "del ",
     "library": "var_list.py",
     "varRefreshCmd": "print(var_dic_list())"
    },
    "r": {
     "delete_cmd_postfix": ") ",
     "delete_cmd_prefix": "rm(",
     "library": "var_list.r",
     "varRefreshCmd": "cat(var_dic_list()) "
    }
   },
   "types_to_exclude": [
    "module",
    "function",
    "builtin_function_or_method",
    "instance",
    "_Feature"
   ],
   "window_display": false
  }
 },
 "nbformat": 4,
 "nbformat_minor": 5
}
