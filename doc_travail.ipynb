{
 "cells": [
  {
   "cell_type": "markdown",
   "id": "a48ecfe2-01d0-45e5-9132-7cbbc8b80d1a",
   "metadata": {},
   "source": [
    "# Programation Python avancé (document de travail)"
   ]
  },
  {
   "cell_type": "markdown",
   "id": "08b807d4-73d1-4c51-bb85-da440ca7b09a",
   "metadata": {},
   "source": [
    "## Objectifs \n",
    "À la fin de ce cours, les étudiants et étudiantes sauront :\n",
    "- Mettre en place un environnement python robuste ainsi qu'un environnement de développement adapté.\n",
    "- Écrire des programmes python efficaces utilisant les bibliothèques et abstractions modernes.\n",
    "- Assurer la lisibilité et la maintenance en suivant les principes de structuration modulaire et de style cohérents avec celles de la communauté.\n",
    "- Créer un paquet pour la distribution sur d'autres machines y compris des dépendances.\n"
   ]
  },
  {
   "cell_type": "markdown",
   "id": "c671f5b2-f4f5-4526-b868-43fc66c6437a",
   "metadata": {},
   "source": [
    "## Plan du cours\n",
    "1. **Bien travailler avec python** (2h CM, 4h TP)\n",
    "    - choisir un environnement de travail: IDE, notebooks jupyter, environnement python (conda,...)\n",
    "    - philosophie et syntaxe de python\n",
    "    - l'interpréteur python\n",
    "    - bonnes pratiques en programmation python (PEP8,...)\n",
    "1. **Structuration et types de données** (2h CM, 6h TP)\n",
    "    - Variables, références et gestion de la mémoire\n",
    "    - Types de données et structures\n",
    "    - Programmation orientée objet (OOP) : les classes\n",
    "    - Écrire du code robuste : architecture, introspection, exceptions, etc.\n",
    "1. **Programmer avec des modules** (2h CM, 6h TP)\n",
    "    - les modules natifs : os, sys, subprocess,...\n",
    "    - les bibliothèques externes : avec pip ou conda\n",
    "    - quelques exemples communs : numpy, scipy, matplotlib\n",
    "    - créer ses propres modules\n",
    "1. **Pour aller plus loin** (2h CM, 6h TP)\n",
    "    - les décorateurs\n",
    "    - communication avec d'autres langages (C++,...)\n",
    "    - tester et debugger\n",
    "    - distribution and portabilité des paquets\n",
    "\n",
    "**Exam 2h en semaine 45**"
   ]
  },
  {
   "cell_type": "markdown",
   "id": "f077e341-7c3b-4b9f-8e5b-a8ecb3e8f956",
   "metadata": {},
   "source": [
    "| Semaine | Programme           |\n",
    "|---------|--------------------|\n",
    "| 36      | 2h CM              |\n",
    "| 37      | 2x2h TP ou bloc 4h |\n",
    "| 38      | 2h CM + 2h TP      |\n",
    "| 39      | 2x2h TP ou bloc 4h |\n",
    "| 40      | 2h CM + 2h TP      |\n",
    "| 41      | 2x2h TP ou bloc 4h |\n",
    "| 42      | 2h CM + 2h TP      |\n",
    "| 43      | 2x2h TP ou bloc 4h |"
   ]
  },
  {
   "cell_type": "markdown",
   "id": "ad4b20d3-20b2-4eb1-a23e-d53e5d88de81",
   "metadata": {},
   "source": [
    "## Ressources :\n",
    "### Enseignement et python\n",
    "  - [Teaching and Learning with Jupyter](https://jupyter4edu.github.io/jupyter-edu-book) (extensive book about teaching with Jupyter)\n",
    "  - https://www.pierre-giraud.com/python-apprendre-programmer-cours/introduction/\n",
    "### Environement\n",
    "   - [jupyter stack](https://jupyter-docker-stacks.readthedocs.io/en/latest/using/running.html) (and tutorials for docker env) \n",
    "   - [Intro basique au lancemnet d'image docker](https://towardsdatascience.com/how-to-mount-a-directory-inside-a-docker-container-4cee379c298b)\n",
    "   - [mamba](https://mamba.readthedocs.io/en/latest/installation.html) (un remplaçant plus rapide de conda)\n",
    "   - [nbdime](https://nbdime.readthedocs.io/en/latest/) (outil de versionning adapté aux notebooks)\n",
    "   \n",
    "The docker command to run a notebook with the correct bindings to access my data.\n",
    "```shell\n",
    "docker run -it --rm -p 8888:8888 -v $HOME:/home/jovyan/llestandi -v /mnt/c/Users/llestand:/home/jovyan/WinC --name notebook jupyter/datascience-notebook\n",
    "```\n",
    "   \n",
    "### Bonnes pratiques\n",
    "   - [Unittesting and bugs](https://thedatafrog.com/en/articles/python-debugging-unittest)\n",
    "   \n",
    "### Exercices\n",
    "- http://eric.berthomier.free.fr/IMG/pdf/exos_corriges.pdf\n",
    "- https://perso.limsi.fr/pointal/_media/python:cours:exercices-python3.pdf\n",
    "\n",
    "### A creuser\n",
    "- Programmation python avancée, Chap 17: l'ABC de la métaprogrammation\n",
    "  > Très interessant, sur les surcharges de classes etc. Jusqu'à du hard-typing"
   ]
  },
  {
   "cell_type": "markdown",
   "id": "95c6e7ef-e4bb-4d98-bb73-6cf464a9b440",
   "metadata": {},
   "source": [
    "## Réflexion sur l'organisation du cours\n",
    " - Principalement basé sur des notebooks, en particulier pour les présentations\n",
    " - Pour les étudiants, du notebook mais surtout du vrai python avec modules, packaging etc.\n",
    " - Pour faciliter l'utilisation, à minima utiliser conda, sinon une image docker (mais cela crée des problèmes inhérents à la conteneurisation)"
   ]
  },
  {
   "cell_type": "markdown",
   "id": "8f84af03-d7b1-4aa0-b84a-56d498d190e6",
   "metadata": {},
   "source": [
    "## Packaging and module import\n",
    "- [SetupTools doc](https://setuptools.pypa.io/en/latest/index.html)\n",
    "- [utilitaire de récupération automatique des dépendances](https://pypi.org/project/pipreqs/)\n",
    "- [documentation officielle du packaging](https://packaging.python.org/en/latest/tutorials/packaging-projects/)\n",
    "- [discussion sur le `__ìnit__.py`](https://stackoverflow.com/questions/37139786/is-init-py-not-required-for-packages-in-python-3-3/37140173#37140173)\n",
    "- [Absolute vs relative imports](https://realpython.com/absolute-vs-relative-python-imports/) -> la meilleure approche semble etre l'import absolu mais on trouve de gros projets avec des `from . import foo` \n",
    "- [official documentation](https://docs.python.org/3/reference/import.html#regular-packages)"
   ]
  },
  {
   "cell_type": "markdown",
   "id": "fd294a85",
   "metadata": {
    "slideshow": {
     "slide_type": "slide"
    }
   },
   "source": [
    "##  Idées TPs\n",
    "- [norvig github](https://github.com/norvig/pytudes)avec quelques exemples spécifiques\n",
    "    - [Fourier series](https://github.com/norvig/jupyter/blob/master/Fourier%20Series.ipynb)\n",
    "    - [Fractales](https://github.com/norvig/jupyter/blob/master/Classic%20Fractals.ipynb)\n",
    "- **Mon projet de projecteur**\n",
    "\n",
    "- Des bases de données interessantes https://think.cs.vt.edu/corgis/python/index.html"
   ]
  },
  {
   "cell_type": "markdown",
   "id": "ea3f2150",
   "metadata": {},
   "source": [
    "# Markdown/HTML templates"
   ]
  },
  {
   "cell_type": "markdown",
   "id": "18db6c5c",
   "metadata": {},
   "source": [
    "- [site emoji](https://getemoji.com/)"
   ]
  },
  {
   "cell_type": "markdown",
   "id": "517dc6da",
   "metadata": {},
   "source": [
    "## Balises html courantes\n",
    "- Insertion d'images\n",
    "```html\n",
    "<img src=\"https://upload.wikimedia.org/wikipedia/en/c/cd/Anaconda_Logo.png\" alt=\"Logo Anaconda\" width=\"400\" height=\"200\">\n",
    "```\n",
    "<img src=\"https://upload.wikimedia.org/wikipedia/en/c/cd/Anaconda_Logo.png\" alt=\"Logo Anaconda\" width=\"400\" height=\"200\">\n",
    "\n",
    "- insertion de lien \n",
    "```html\n",
    "<a href=\"https://www.codeur.com\">Visiter Codeur.com</a>\n",
    "```\n",
    "\n",
    "<div class=\"alert alert-success\" role=\"alert\">\n",
    "  This is a success alert—check it out!\n",
    "</div>\n",
    "<div class=\"alert alert-danger\" role=\"alert\">\n",
    "  This is a danger alert—check it out!\n",
    "</div>\n",
    "<div class=\"alert alert-warning\" role=\"alert\">\n",
    "  This is a warning alert—check it out!\n",
    "</div>\n",
    "<div class=\"alert alert-info\" role=\"alert\">\n",
    "  This is a info alert—check it out!\n",
    "</div>\n",
    "\n",
    "```html\n",
    "<div class=\"alert alert-success\" role=\"alert\">\n",
    "  This is a success alert—check it out!\n",
    "</div>\n",
    "<div class=\"alert alert-danger\" role=\"alert\">\n",
    "  This is a danger alert—check it out!\n",
    "</div>\n",
    "<div class=\"alert alert-warning\" role=\"alert\">\n",
    "  This is a warning alert—check it out!\n",
    "</div>\n",
    "<div class=\"alert alert-info\" role=\"alert\">\n",
    "  This is a info alert—check it out!\n",
    "</div>\n",
    "```"
   ]
  },
  {
   "cell_type": "markdown",
   "id": "8711dfee",
   "metadata": {},
   "source": [
    "## Two column table (html)\n",
    "<table>\n",
    "<tr>\n",
    "<th> Good </th>\n",
    "<th> Bad </th>\n",
    "</tr>\n",
    "<tr>\n",
    "<td>\n",
    "\n",
    "```c++\n",
    "int foo() {\n",
    "    int result = 4;\n",
    "    return result;\n",
    "}\n",
    "```\n",
    "\n",
    "</td>\n",
    "<td>\n",
    "\n",
    "```c++\n",
    "int foo() { \n",
    "    int x = 4;\n",
    "    return x;\n",
    "}\n",
    "```\n",
    "\n",
    "</td>\n",
    "</tr>\n",
    "</table>"
   ]
  },
  {
   "cell_type": "markdown",
   "id": "792e9e0e",
   "metadata": {
    "slideshow": {
     "slide_type": "slide"
    }
   },
   "source": [
    "## Two column layout  \n",
    "  <div style=\"text-align: left; float: left;\">\n",
    "    <p data-markdown>- This is my first left element</p>\n",
    "    <p data-markdown>- This is my second left element</p>\n",
    "    <!-- more Elements -->\n",
    "  </div>\n",
    "\n",
    "  <div style=\"text-align: right; float: right;\">\n",
    "    <p data-markdown>- This is my first right element</p>\n",
    "    <p data-markdown>- This is my second rightelement</p>\n",
    "    <!-- more Elements -->\n",
    "  </div>\n"
   ]
  },
  {
   "cell_type": "markdown",
   "id": "99cabe8c",
   "metadata": {},
   "source": [
    "# Zone de test"
   ]
  },
  {
   "cell_type": "markdown",
   "id": "1d470cce",
   "metadata": {},
   "source": []
  }
 ],
 "metadata": {
  "celltoolbar": "Diaporama",
  "kernelspec": {
   "display_name": "Python 3 (ipykernel)",
   "language": "python",
   "name": "python3"
  },
  "language_info": {
   "codemirror_mode": {
    "name": "ipython",
    "version": 3
   },
   "file_extension": ".py",
   "mimetype": "text/x-python",
   "name": "python",
   "nbconvert_exporter": "python",
   "pygments_lexer": "ipython3",
   "version": "3.9.13"
  },
  "toc": {
   "base_numbering": 1,
   "nav_menu": {},
   "number_sections": true,
   "sideBar": true,
   "skip_h1_title": false,
   "title_cell": "Table of Contents",
   "title_sidebar": "Contents",
   "toc_cell": false,
   "toc_position": {},
   "toc_section_display": true,
   "toc_window_display": false
  },
  "varInspector": {
   "cols": {
    "lenName": 16,
    "lenType": 16,
    "lenVar": 40
   },
   "kernels_config": {
    "python": {
     "delete_cmd_postfix": "",
     "delete_cmd_prefix": "del ",
     "library": "var_list.py",
     "varRefreshCmd": "print(var_dic_list())"
    },
    "r": {
     "delete_cmd_postfix": ") ",
     "delete_cmd_prefix": "rm(",
     "library": "var_list.r",
     "varRefreshCmd": "cat(var_dic_list()) "
    }
   },
   "types_to_exclude": [
    "module",
    "function",
    "builtin_function_or_method",
    "instance",
    "_Feature"
   ],
   "window_display": false
  }
 },
 "nbformat": 4,
 "nbformat_minor": 5
}
